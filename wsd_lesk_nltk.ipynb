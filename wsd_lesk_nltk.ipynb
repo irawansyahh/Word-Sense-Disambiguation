{
  "nbformat": 4,
  "nbformat_minor": 0,
  "metadata": {
    "colab": {
      "name": "wsd_lesk_nltk.ipynb",
      "provenance": []
    },
    "kernelspec": {
      "name": "python3",
      "display_name": "Python 3"
    }
  },
  "cells": [
    {
      "cell_type": "markdown",
      "metadata": {
        "id": "JSSwRPjNJ3A2"
      },
      "source": [
        "Tutorial Pekan Ke-9, Word Sense Disambiguation.\n",
        "\n",
        "Metode WSD berbasis thesaurus (WordNet), dengan metode Lesk.\n",
        "\n",
        "Sumber: http://www.nltk.org/howto/wsd.html"
      ]
    },
    {
      "cell_type": "code",
      "metadata": {
        "colab": {
          "base_uri": "https://localhost:8080/"
        },
        "id": "UNJZwZw2bbu6",
        "outputId": "fff77c76-214b-4e52-e3d4-775ddd169927"
      },
      "source": [
        "import nltk\n",
        "import numpy as np\n",
        "import pandas as pd\n",
        "nltk.download('wordnet')\n",
        "nltk.download('punkt')\n",
        "nltk.download(\"stopwords\")"
      ],
      "execution_count": 34,
      "outputs": [
        {
          "output_type": "stream",
          "text": [
            "[nltk_data] Downloading package wordnet to /root/nltk_data...\n",
            "[nltk_data]   Package wordnet is already up-to-date!\n",
            "[nltk_data] Downloading package punkt to /root/nltk_data...\n",
            "[nltk_data]   Package punkt is already up-to-date!\n",
            "[nltk_data] Downloading package stopwords to /root/nltk_data...\n",
            "[nltk_data]   Package stopwords is already up-to-date!\n"
          ],
          "name": "stdout"
        },
        {
          "output_type": "execute_result",
          "data": {
            "text/plain": [
              "True"
            ]
          },
          "metadata": {
            "tags": []
          },
          "execution_count": 34
        }
      ]
    },
    {
      "cell_type": "code",
      "metadata": {
        "id": "y4mkMMyUelQ9"
      },
      "source": [
        "KBBI = pd.DataFrame(\n",
        "    [\n",
        "     ['bisa','bi.sa1','mampu (kuasa melakukan sesuatu);dapat','ia -- membaca, tetapi tidak -- menulis'],\n",
        "     ['bisa','bi.sa2','zat racun yang dapat menyebabkan luka, busuk, atau mati bagi sesuatu yang hidup (biasanya terdapat pada binatang)','bisa ular sangat berbahaya'],\n",
        "     ['bisa','bi.sa2','ki sesuatu yang buruk, yang dapat merusakkan akhlak manusia atau masyarakat: ajaranmu itu akan menjadi -- bagi kami','musryik bisa menyekutukan Allah'],\n",
        "     ['bisa','bi.sa3','sapaan kepada dukun yang berasal dari golongan bangsawan dan walaka yang biasa melakukan upacara adat pingitan','susua wolio bisa dari keturunan Golongan walaka asal Limbo '],\n",
        "     ['kepala','ke.pa.la1','bagian tubuh yang di atas leher (pada manusia dan beberapa jenis hewan merupakan tempat otak, pusat jaringan saraf, dan beberapa pusat indra','mayat wanita itu ditemukan tanpa --'],\n",
        "     ['kepala','ke.pa.la1','bagian tubuh yang di atas leher tempat tumbuhnya rambut','--nya botak'],\n",
        "     ['kepala','ke.pa.la1','bagian suatu benda yang sebelah atas (ujung, depan, dan sebagainya)','-- tongkat'],\n",
        "     ['kepala','ke.pa.la1','bagian yang terutama (yang penting, yang pokok, dan sebagainya)','-- lakon'],\n",
        "     ['kepala','ke.pa.la1','pemimpin; ketua (kantor, pekerjaan, perkumpulan, dan sebagainya)','-- pasukan'],\n",
        "     ['kepala','ke.pa.la1','otak (pikiran, akal, budi)','jika kita masih punya --, kita harus diberi jatah satu kilogram gula'],\n",
        "     ['kepala','ke.pa.la1','kata penggolong bagi manusia; orang','kata penggolong bagi manusia; orang: biaya pemondokan dihitung per --, bukan per kamar'],\n",
        "     ['kepala','ke.pa.la2','mekanisme baca atau tulis dalam cakram atau penggerak pita','kepala penggerak'],\n",
        "     ['kepala','ke.pa.la2','bagian pengodean yang mendahului tubuh dokumen dan digunakan untuk menggambarkan dokumen itu sendiri','kepala surat'],\n",
        "     ['mental','men.tal','bersangkutan dengan batin dan watak manusia, yang bukan bersifat badan atau tenaga','bukan hanya pembangunan fisik yang diperhatikan, melainkan juga pembangunan --'],\n",
        "     ['mental','men.tal1','men.tal''batin dan watak','mental baja'],\n",
        "     ['mental','men.tal1','terpelanting; terpental','anak itu mental dari kursi'],\n",
        "     ['mental','men.tal1','terlempar kembali; berbalik arah','bola yang dilempar itu mental'],\n",
        "     ['mental','men.tal2','ada gunanya, ada pengaruhnya (tentang obat, nasihat, dan sebagainya)','saya mempunyai mental kaya']\n",
        "    ],\n",
        "    columns=['word','sense','definition','examples']\n",
        ")\n",
        "\n",
        "KBBI = KBBI.set_index('word')"
      ],
      "execution_count": 43,
      "outputs": []
    },
    {
      "cell_type": "code",
      "metadata": {
        "colab": {
          "base_uri": "https://localhost:8080/",
          "height": 638
        },
        "id": "WyBskLj7yl9i",
        "outputId": "4cff96e0-2a13-4644-eee7-470125266004"
      },
      "source": [
        "KBBI"
      ],
      "execution_count": 44,
      "outputs": [
        {
          "output_type": "execute_result",
          "data": {
            "text/html": [
              "<div>\n",
              "<style scoped>\n",
              "    .dataframe tbody tr th:only-of-type {\n",
              "        vertical-align: middle;\n",
              "    }\n",
              "\n",
              "    .dataframe tbody tr th {\n",
              "        vertical-align: top;\n",
              "    }\n",
              "\n",
              "    .dataframe thead th {\n",
              "        text-align: right;\n",
              "    }\n",
              "</style>\n",
              "<table border=\"1\" class=\"dataframe\">\n",
              "  <thead>\n",
              "    <tr style=\"text-align: right;\">\n",
              "      <th></th>\n",
              "      <th>sense</th>\n",
              "      <th>definition</th>\n",
              "      <th>examples</th>\n",
              "    </tr>\n",
              "    <tr>\n",
              "      <th>word</th>\n",
              "      <th></th>\n",
              "      <th></th>\n",
              "      <th></th>\n",
              "    </tr>\n",
              "  </thead>\n",
              "  <tbody>\n",
              "    <tr>\n",
              "      <th>bisa</th>\n",
              "      <td>bi.sa1</td>\n",
              "      <td>mampu (kuasa melakukan sesuatu);dapat</td>\n",
              "      <td>ia -- membaca, tetapi tidak -- menulis</td>\n",
              "    </tr>\n",
              "    <tr>\n",
              "      <th>bisa</th>\n",
              "      <td>bi.sa2</td>\n",
              "      <td>zat racun yang dapat menyebabkan luka, busuk, ...</td>\n",
              "      <td>bisa ular sangat berbahaya</td>\n",
              "    </tr>\n",
              "    <tr>\n",
              "      <th>bisa</th>\n",
              "      <td>bi.sa2</td>\n",
              "      <td>ki sesuatu yang buruk, yang dapat merusakkan a...</td>\n",
              "      <td>musryik bisa menyekutukan Allah</td>\n",
              "    </tr>\n",
              "    <tr>\n",
              "      <th>bisa</th>\n",
              "      <td>bi.sa3</td>\n",
              "      <td>sapaan kepada dukun yang berasal dari golongan...</td>\n",
              "      <td>susua wolio bisa dari keturunan Golongan walak...</td>\n",
              "    </tr>\n",
              "    <tr>\n",
              "      <th>kepala</th>\n",
              "      <td>ke.pa.la1</td>\n",
              "      <td>bagian tubuh yang di atas leher (pada manusia ...</td>\n",
              "      <td>mayat wanita itu ditemukan tanpa --</td>\n",
              "    </tr>\n",
              "    <tr>\n",
              "      <th>kepala</th>\n",
              "      <td>ke.pa.la1</td>\n",
              "      <td>bagian tubuh yang di atas leher tempat tumbuhn...</td>\n",
              "      <td>--nya botak</td>\n",
              "    </tr>\n",
              "    <tr>\n",
              "      <th>kepala</th>\n",
              "      <td>ke.pa.la1</td>\n",
              "      <td>bagian suatu benda yang sebelah atas (ujung, d...</td>\n",
              "      <td>-- tongkat</td>\n",
              "    </tr>\n",
              "    <tr>\n",
              "      <th>kepala</th>\n",
              "      <td>ke.pa.la1</td>\n",
              "      <td>bagian yang terutama (yang penting, yang pokok...</td>\n",
              "      <td>-- lakon</td>\n",
              "    </tr>\n",
              "    <tr>\n",
              "      <th>kepala</th>\n",
              "      <td>ke.pa.la1</td>\n",
              "      <td>pemimpin; ketua (kantor, pekerjaan, perkumpula...</td>\n",
              "      <td>-- pasukan</td>\n",
              "    </tr>\n",
              "    <tr>\n",
              "      <th>kepala</th>\n",
              "      <td>ke.pa.la1</td>\n",
              "      <td>otak (pikiran, akal, budi)</td>\n",
              "      <td>jika kita masih punya --, kita harus diberi ja...</td>\n",
              "    </tr>\n",
              "    <tr>\n",
              "      <th>kepala</th>\n",
              "      <td>ke.pa.la1</td>\n",
              "      <td>kata penggolong bagi manusia; orang</td>\n",
              "      <td>kata penggolong bagi manusia; orang: biaya pem...</td>\n",
              "    </tr>\n",
              "    <tr>\n",
              "      <th>kepala</th>\n",
              "      <td>ke.pa.la2</td>\n",
              "      <td>mekanisme baca atau tulis dalam cakram atau pe...</td>\n",
              "      <td>kepala penggerak</td>\n",
              "    </tr>\n",
              "    <tr>\n",
              "      <th>kepala</th>\n",
              "      <td>ke.pa.la2</td>\n",
              "      <td>bagian pengodean yang mendahului tubuh dokumen...</td>\n",
              "      <td>kepala surat</td>\n",
              "    </tr>\n",
              "    <tr>\n",
              "      <th>mental</th>\n",
              "      <td>men.tal</td>\n",
              "      <td>bersangkutan dengan batin dan watak manusia, y...</td>\n",
              "      <td>bukan hanya pembangunan fisik yang diperhatika...</td>\n",
              "    </tr>\n",
              "    <tr>\n",
              "      <th>mental</th>\n",
              "      <td>men.tal1</td>\n",
              "      <td>men.talbatin dan watak</td>\n",
              "      <td>mental baja</td>\n",
              "    </tr>\n",
              "    <tr>\n",
              "      <th>mental</th>\n",
              "      <td>men.tal1</td>\n",
              "      <td>terpelanting; terpental</td>\n",
              "      <td>anak itu mental dari kursi</td>\n",
              "    </tr>\n",
              "    <tr>\n",
              "      <th>mental</th>\n",
              "      <td>men.tal1</td>\n",
              "      <td>terlempar kembali; berbalik arah</td>\n",
              "      <td>bola yang dilempar itu mental</td>\n",
              "    </tr>\n",
              "    <tr>\n",
              "      <th>mental</th>\n",
              "      <td>men.tal2</td>\n",
              "      <td>ada gunanya, ada pengaruhnya (tentang obat, na...</td>\n",
              "      <td>saya mempunyai mental kaya</td>\n",
              "    </tr>\n",
              "  </tbody>\n",
              "</table>\n",
              "</div>"
            ],
            "text/plain": [
              "            sense  ...                                           examples\n",
              "word               ...                                                   \n",
              "bisa       bi.sa1  ...             ia -- membaca, tetapi tidak -- menulis\n",
              "bisa       bi.sa2  ...                         bisa ular sangat berbahaya\n",
              "bisa       bi.sa2  ...                    musryik bisa menyekutukan Allah\n",
              "bisa       bi.sa3  ...  susua wolio bisa dari keturunan Golongan walak...\n",
              "kepala  ke.pa.la1  ...                mayat wanita itu ditemukan tanpa --\n",
              "kepala  ke.pa.la1  ...                                        --nya botak\n",
              "kepala  ke.pa.la1  ...                                         -- tongkat\n",
              "kepala  ke.pa.la1  ...                                           -- lakon\n",
              "kepala  ke.pa.la1  ...                                         -- pasukan\n",
              "kepala  ke.pa.la1  ...  jika kita masih punya --, kita harus diberi ja...\n",
              "kepala  ke.pa.la1  ...  kata penggolong bagi manusia; orang: biaya pem...\n",
              "kepala  ke.pa.la2  ...                                   kepala penggerak\n",
              "kepala  ke.pa.la2  ...                                       kepala surat\n",
              "mental    men.tal  ...  bukan hanya pembangunan fisik yang diperhatika...\n",
              "mental   men.tal1  ...                                        mental baja\n",
              "mental   men.tal1  ...                         anak itu mental dari kursi\n",
              "mental   men.tal1  ...                      bola yang dilempar itu mental\n",
              "mental   men.tal2  ...                         saya mempunyai mental kaya\n",
              "\n",
              "[18 rows x 3 columns]"
            ]
          },
          "metadata": {
            "tags": []
          },
          "execution_count": 44
        }
      ]
    },
    {
      "cell_type": "code",
      "metadata": {
        "id": "MUVbPqXsZkPs"
      },
      "source": [
        "def compute_overlap(signature,context):\n",
        "  count = 0 \n",
        "  for word in signature:\n",
        "    for word_sense in context:\n",
        "      if(word == word_sense) and (word!='yang' and word!='dan' and word!=\",\" and word!=\"atau\"):\n",
        "        count += 1\n",
        "  return count"
      ],
      "execution_count": 45,
      "outputs": []
    },
    {
      "cell_type": "code",
      "metadata": {
        "id": "9IhZENmZaiFb"
      },
      "source": [
        "def simplified_lesk(word,sentence):\n",
        "  max_overlap = 0 \n",
        "  best_sense = 0\n",
        "  context = nltk.word_tokenize(sentence)\n",
        "  for row,sense in KBBI.iterrows():\n",
        "    signature = str(sense[\"definition\"])+' '+str(sense['examples'])\n",
        "    overlap = compute_overlap(nltk.word_tokenize(signature),context)\n",
        "    if overlap>max_overlap:\n",
        "      max_overlap=overlap\n",
        "      best_sense=sense['sense']\n",
        "  return best_sense"
      ],
      "execution_count": 46,
      "outputs": []
    },
    {
      "cell_type": "markdown",
      "metadata": {
        "id": "V5DT24VifwJb"
      },
      "source": [
        "# Similarity"
      ]
    },
    {
      "cell_type": "code",
      "metadata": {
        "colab": {
          "base_uri": "https://localhost:8080/"
        },
        "id": "LcswFPnwYWmk",
        "outputId": "f08afca7-5e42-4339-acea-22c5b8c31c5c"
      },
      "source": [
        "compute_overlap('Aziz mempunyai mental juara','Bola itu mental terkena tiang gawang')"
      ],
      "execution_count": 61,
      "outputs": [
        {
          "output_type": "execute_result",
          "data": {
            "text/plain": [
              "69"
            ]
          },
          "metadata": {
            "tags": []
          },
          "execution_count": 61
        }
      ]
    },
    {
      "cell_type": "code",
      "metadata": {
        "colab": {
          "base_uri": "https://localhost:8080/"
        },
        "id": "eKKqjTlPfkVO",
        "outputId": "fb31818a-7b2a-412e-c98a-9f09ee716a74"
      },
      "source": [
        "compute_overlap('ditemukan mayat tanpa kepala','saya membuat kepala surat')"
      ],
      "execution_count": 64,
      "outputs": [
        {
          "output_type": "execute_result",
          "data": {
            "text/plain": [
              "73"
            ]
          },
          "metadata": {
            "tags": []
          },
          "execution_count": 64
        }
      ]
    },
    {
      "cell_type": "markdown",
      "metadata": {
        "id": "vfsEZriDf17J"
      },
      "source": [
        "# SENSE"
      ]
    },
    {
      "cell_type": "code",
      "metadata": {
        "id": "0RMorp_bY-LL",
        "colab": {
          "base_uri": "https://localhost:8080/",
          "height": 35
        },
        "outputId": "b4d6c113-4f1e-4d41-f37f-34f877c04656"
      },
      "source": [
        "simplified_lesk('bisa','ia bisa membaca, tetapi tidak bisa menulis')"
      ],
      "execution_count": 62,
      "outputs": [
        {
          "output_type": "execute_result",
          "data": {
            "application/vnd.google.colaboratory.intrinsic+json": {
              "type": "string"
            },
            "text/plain": [
              "'bi.sa1'"
            ]
          },
          "metadata": {
            "tags": []
          },
          "execution_count": 62
        }
      ]
    },
    {
      "cell_type": "code",
      "metadata": {
        "colab": {
          "base_uri": "https://localhost:8080/",
          "height": 35
        },
        "id": "EP_IRoUAQxHN",
        "outputId": "1f5e151a-3b6d-4038-c34b-f102b37814f3"
      },
      "source": [
        "simplified_lesk('bisa','saya terkena bisa ular')"
      ],
      "execution_count": 48,
      "outputs": [
        {
          "output_type": "execute_result",
          "data": {
            "application/vnd.google.colaboratory.intrinsic+json": {
              "type": "string"
            },
            "text/plain": [
              "'bi.sa2'"
            ]
          },
          "metadata": {
            "tags": []
          },
          "execution_count": 48
        }
      ]
    },
    {
      "cell_type": "code",
      "metadata": {
        "colab": {
          "base_uri": "https://localhost:8080/",
          "height": 35
        },
        "id": "nI_BqcRHQupB",
        "outputId": "75b06ce1-7eea-4d04-8a9f-d79bb184bc08"
      },
      "source": [
        "simplified_lesk('kepala','ditemukan mayat tanpa kepala')"
      ],
      "execution_count": 49,
      "outputs": [
        {
          "output_type": "execute_result",
          "data": {
            "application/vnd.google.colaboratory.intrinsic+json": {
              "type": "string"
            },
            "text/plain": [
              "'ke.pa.la1'"
            ]
          },
          "metadata": {
            "tags": []
          },
          "execution_count": 49
        }
      ]
    },
    {
      "cell_type": "code",
      "metadata": {
        "colab": {
          "base_uri": "https://localhost:8080/",
          "height": 35
        },
        "id": "5d5MjdsCQxSR",
        "outputId": "1475565e-8399-40ce-b3ba-d1f6477c0746"
      },
      "source": [
        "simplified_lesk('kepala','saya membuat kepala surat')"
      ],
      "execution_count": 63,
      "outputs": [
        {
          "output_type": "execute_result",
          "data": {
            "application/vnd.google.colaboratory.intrinsic+json": {
              "type": "string"
            },
            "text/plain": [
              "'ke.pa.la2'"
            ]
          },
          "metadata": {
            "tags": []
          },
          "execution_count": 63
        }
      ]
    },
    {
      "cell_type": "code",
      "metadata": {
        "colab": {
          "base_uri": "https://localhost:8080/",
          "height": 35
        },
        "id": "ZyIOyBLLQxV_",
        "outputId": "cdad0e29-8fc5-46ef-c30a-0a3ba23591ed"
      },
      "source": [
        "simplified_lesk('mental','Bola itu mental terkena tiang gawang.')"
      ],
      "execution_count": 52,
      "outputs": [
        {
          "output_type": "execute_result",
          "data": {
            "application/vnd.google.colaboratory.intrinsic+json": {
              "type": "string"
            },
            "text/plain": [
              "'men.tal1'"
            ]
          },
          "metadata": {
            "tags": []
          },
          "execution_count": 52
        }
      ]
    },
    {
      "cell_type": "code",
      "metadata": {
        "colab": {
          "base_uri": "https://localhost:8080/",
          "height": 35
        },
        "id": "2LKFPo_1QydZ",
        "outputId": "466f438e-fda7-4836-ba99-99543835ff57"
      },
      "source": [
        "simplified_lesk('mental','Aziz mempunyai mental juara')"
      ],
      "execution_count": 56,
      "outputs": [
        {
          "output_type": "execute_result",
          "data": {
            "application/vnd.google.colaboratory.intrinsic+json": {
              "type": "string"
            },
            "text/plain": [
              "'men.tal2'"
            ]
          },
          "metadata": {
            "tags": []
          },
          "execution_count": 56
        }
      ]
    }
  ]
}